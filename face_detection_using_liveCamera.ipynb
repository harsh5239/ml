{
 "cells": [
  {
   "cell_type": "code",
   "execution_count": 3,
   "metadata": {},
   "outputs": [],
   "source": [
    "import  cv2\n",
    "#  calling  classifier \n",
    "casclf=cv2.CascadeClassifier(r'C:\\Users\\HARSH SONI\\Desktop\\background\\haarcascade_frontalface_default.xml')\n",
    "casclf1=cv2.CascadeClassifier(r'C:\\Users\\HARSH SONI\\Desktop\\background\\haarcascade_eye.xml')\n",
    "#  loading  face data \n",
    "cap=cv2.VideoCapture(0)\n",
    "\n",
    "\n",
    "while cap.isOpened() :\n",
    "    status,frame=cap.read()\n",
    "    #  now we can apply  classifier in  live frame \n",
    "    face=casclf.detectMultiScale(frame,1.5,5)  #  classifier  tuning parameter\n",
    "    #print(face)\n",
    "    for x,y,w,h  in  face:\n",
    "        cv2.rectangle(frame,(x,y),(x+h,y+w),(0,0,255),3)  \n",
    "        #  only  face\n",
    "        facedata=frame[y:y+h,x:x+w]   \n",
    "        #cv2.imshow('f',facedata)\n",
    "        eye=casclf1.detectMultiScale(facedata)\n",
    "        for ex,ey,ew,eh  in  eye:q\n",
    "            cv2.rectangle(facedata,(ex,ey),(ex+eh,ey+ew),(0,0,255),2)\n",
    "    cv2.imshow('face',frame)  \n",
    "    if  cv2.waitKey(10)  &  0xff  == ord('q') :\n",
    "        break\n",
    "\n",
    "cv2.destroyAllWindows()\n",
    "cap.release()"
   ]
  },
  {
   "cell_type": "code",
   "execution_count": null,
   "metadata": {},
   "outputs": [],
   "source": []
  }
 ],
 "metadata": {
  "kernelspec": {
   "display_name": "Python 3",
   "language": "python",
   "name": "python3"
  },
  "language_info": {
   "codemirror_mode": {
    "name": "ipython",
    "version": 3
   },
   "file_extension": ".py",
   "mimetype": "text/x-python",
   "name": "python",
   "nbconvert_exporter": "python",
   "pygments_lexer": "ipython3",
   "version": "3.7.0"
  }
 },
 "nbformat": 4,
 "nbformat_minor": 2
}

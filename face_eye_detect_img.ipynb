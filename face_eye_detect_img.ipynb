{
 "cells": [
  {
   "cell_type": "code",
   "execution_count": 26,
   "metadata": {},
   "outputs": [],
   "source": [
    "import cv2\n",
    "# Create a CascadeClassifier Object\n",
    "face_cascade = cv2.CascadeClassifier(r\"C:\\Users\\HARSH SONI\\Desktop\\background\\haarcascade_frontalface_default.xml\")\n",
    "eye_cascade = cv2.CascadeClassifier(r\"C:\\Users\\HARSH SONI\\Desktop\\background\\haarcascade_eye.xml\")\n",
    "# Reading the image as it is\n",
    "img = cv2.imread(r\"C:\\Users\\HARSH SONI\\Pictures\\Camera Roll\\WIN_20180506_09_52_01_Pro.jpg\")\n",
    "#resized_img = cv2.resize(img, (650,500))\n",
    "# Reading the image as gray scale image\n",
    "gray_img = cv2.cvtColor(img,cv2.COLOR_BGR2GRAY)\n",
    "# Search the co-ordintes of the image\n",
    "faces = face_cascade.detectMultiScale(gray_img)\n",
    "for x,y,w,h in faces:\n",
    "    img = cv2.rectangle(img, (x,y), (x+w,y+h),(0,255,0),3)\n",
    "    eyes = eye_cascade.detectMultiScale(gray_img)\n",
    "    for (ex,ey,ew,eh) in eyes:\n",
    "        cv2.rectangle(img,(ex,ey),(ex+ew,ey+eh),(0,255,0),2)\n",
    "\n",
    "#resized = cv2.resize(img, (int(img.shape[1]/7),int(img.shape[0]/7)))\n",
    "cv2.imshow(\"Gray\",img)\n",
    "cv2.waitKey(0)\n",
    "cv2.destroyAllWindows()"
   ]
  },
  {
   "cell_type": "code",
   "execution_count": null,
   "metadata": {},
   "outputs": [],
   "source": []
  }
 ],
 "metadata": {
  "kernelspec": {
   "display_name": "Python 3",
   "language": "python",
   "name": "python3"
  }
 },
 "nbformat": 4,
 "nbformat_minor": 2
}

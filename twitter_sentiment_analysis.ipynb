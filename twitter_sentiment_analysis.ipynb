{
 "cells": [
  {
   "cell_type": "code",
   "execution_count": 38,
   "metadata": {},
   "outputs": [
    {
     "name": "stdout",
     "output_type": "stream",
     "text": [
      "Requirement already satisfied: textblob in c:\\users\\harsh soni\\appdata\\local\\programs\\python\\python37-32\\lib\\site-packages (0.15.3)\n",
      "Requirement already satisfied: nltk>=3.1 in c:\\users\\harsh soni\\appdata\\local\\programs\\python\\python37-32\\lib\\site-packages (from textblob) (3.4.4)\n",
      "Requirement already satisfied: six in c:\\users\\harsh soni\\appdata\\local\\programs\\python\\python37-32\\lib\\site-packages (from nltk>=3.1->textblob) (1.12.0)\n"
     ]
    }
   ],
   "source": [
    "!pip3 install textblob"
   ]
  },
  {
   "cell_type": "code",
   "execution_count": 56,
   "metadata": {},
   "outputs": [],
   "source": [
    "import tweepy \n",
    "import matplotlib.pyplot as plt \n",
    "from textblob import TextBlob\n",
    "import time"
   ]
  },
  {
   "cell_type": "code",
   "execution_count": 62,
   "metadata": {},
   "outputs": [],
   "source": [
    "#all 4 authentication keys to access twitter api\n",
    "#to connect as auth handler or jump server/ reverse proxy server\n",
    "consumer_key='6pbgsEZkjhIv0k09XPnXpfgbW'\n",
    "consumer_sec='po6NAF1jXqIMQgMiWdhSPq50srwE0ksOYyAEOPoMNdp1k8s063'\n",
    "\n",
    "#from proxy server we need to connect to web server of twitter\n",
    "access_token='769803334106619904-kPG8pmNg20N9DY5GFV5xbhZbzfeHhIf'\n",
    "access_sec='HQ3agnUvdofsN39mmwCllSJMAFlcrSyzgPJhzFeRNsHaw'\n"
   ]
  },
  {
   "cell_type": "code",
   "execution_count": 63,
   "metadata": {},
   "outputs": [],
   "source": [
    "#tweepy explore\n",
    "##connecting to jump server\n",
    "auth=tweepy.OAuthHandler(consumer_key,consumer_sec)"
   ]
  },
  {
   "cell_type": "code",
   "execution_count": 67,
   "metadata": {},
   "outputs": [],
   "source": [
    "auth.set_access_token(access_token,access_sec)"
   ]
  },
  {
   "cell_type": "code",
   "execution_count": 68,
   "metadata": {},
   "outputs": [],
   "source": [
    "#now we can connect toAPI storage server of twitter\n",
    "api_connect=tweepy.API(auth)"
   ]
  },
  {
   "cell_type": "code",
   "execution_count": 69,
   "metadata": {},
   "outputs": [],
   "source": [
    "#noe u can search any topic on twitter\n",
    "tweet_data=api_connect.search('modi',count=10)"
   ]
  },
  {
   "cell_type": "code",
   "execution_count": 72,
   "metadata": {},
   "outputs": [
    {
     "name": "stdout",
     "output_type": "stream",
     "text": [
      "Sentiment(polarity=0.0, subjectivity=0.0)\n",
      "neutral\n",
      "Sentiment(polarity=0.16666666666666666, subjectivity=0.3333333333333333)\n",
      "positive\n",
      "Sentiment(polarity=-1.0, subjectivity=1.0)\n",
      "negative\n",
      "Sentiment(polarity=0.0, subjectivity=0.0)\n",
      "neutral\n",
      "Sentiment(polarity=0.0, subjectivity=0.0)\n",
      "neutral\n",
      "Sentiment(polarity=0.0, subjectivity=0.5)\n",
      "neutral\n",
      "Sentiment(polarity=0.0, subjectivity=0.0)\n",
      "neutral\n",
      "Sentiment(polarity=0.0, subjectivity=0.0)\n",
      "neutral\n",
      "Sentiment(polarity=0.175, subjectivity=0.325)\n",
      "positive\n",
      "Sentiment(polarity=-0.022222222222222216, subjectivity=0.8888888888888888)\n",
      "negative\n"
     ]
    },
    {
     "data": {
      "image/png": "[encoded data removed]",
      "text/plain": [
       "<Figure size 432x288 with 1 Axes>"
      ]
     },
     "metadata": {
      "needs_background": "light"
     },
     "output_type": "display_data"
    }
   ],
   "source": [
    "pos=0\n",
    "neg=0\n",
    "neu=0\n",
    "for tweet in tweet_data:\n",
    "    #print(tweet)\n",
    "    analysis=TextBlob(tweet.text)\n",
    "    print(analysis.sentiment)\n",
    "    #now chwcking polarity only\n",
    "    if analysis.sentiment.polarity>0:\n",
    "        print('positive')\n",
    "        pos=pos+1\n",
    "    elif analysis.sentiment.polarity==0:\n",
    "        print('neutral')\n",
    "        neu=neu+1\n",
    "    else :\n",
    "        print('negative')\n",
    "        neg=neg+1\n",
    "#ploting graphs\n",
    "plt.xlabel('tags')\n",
    "plt.ylabel('polarity')\n",
    "plt.bar(['pos','neg','neu'],[pos,neg,neu])\n",
    "plt.show()"
   ]
  },
  {
   "cell_type": "code",
   "execution_count": null,
   "metadata": {},
   "outputs": [],
   "source": []
  }
 ],
 "metadata": {
  "kernelspec": {
   "display_name": "Python 3",
   "language": "python",
   "name": "python3"
  },
  "language_info": {
   "codemirror_mode": {
    "name": "ipython",
    "version": 3
   },
   "file_extension": ".py",
   "mimetype": "text/x-python",
   "name": "python",
   "nbconvert_exporter": "python",
   "pygments_lexer": "ipython3",
   "version": "3.7.0"
  }
 },
 "nbformat": 4,
 "nbformat_minor": 2
}

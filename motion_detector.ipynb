{
 "cells": [
  {
   "cell_type": "code",
   "execution_count": 4,
   "metadata": {},
   "outputs": [],
   "source": [
    "import  cv2\n",
    "\n",
    "#  starting  camera\n",
    "cap=cv2.VideoCapture(0)\n",
    "\n",
    "tp1=cap.read()[1]   #  take1 \n",
    "tp2=cap.read()[1]   #  take2\n",
    "tp3=cap.read()[1]   #  take3\n",
    "#  to make more  perfect \n",
    "gray1=cv2.cvtColor(tp1,cv2.COLOR_BGR2GRAY)   #   converting  into gray \n",
    "gray2=cv2.cvtColor(tp2,cv2.COLOR_BGR2GRAY)   #   converting  into gray \n",
    "gray3=cv2.cvtColor(tp3,cv2.COLOR_BGR2GRAY)   #   converting  into gray \n",
    "\n",
    "#   now creating  image  diff \n",
    "def   img_diff(x,y,z):\n",
    "    #  diff b/w  x,y--gray1,gray2  --d1\n",
    "    d1=cv2.absdiff(x,y)\n",
    "    #   diff b/w  y,z  --gray2,gray3  --d2\n",
    "    d2=cv2.absdiff(y,z)  \n",
    "    #   abs diff   d1-d2 \n",
    "    finalimg=cv2.bitwise_and(d1,d2)\n",
    "    return  finalimg \n",
    "\n",
    "#  now apply  function  \n",
    "while cap.isOpened():\n",
    "    status,frame=cap.read()   #   continue  image  taker \n",
    "    motionimg=img_diff(gray1,gray2,gray3)\n",
    "    #  replacing  image frame \n",
    "    gray1=gray2\n",
    "    gray2=gray3\n",
    "    gray3=cv2.cvtColor(frame,cv2.COLOR_BGR2GRAY)   #  passing live image to gray3 \n",
    "    cv2.imshow('live',frame)\n",
    "    cv2.imshow('motion',motionimg)   # motion detect  \n",
    "    if cv2.waitKey(10)  &  0xff  == ord('q') :\n",
    "        break\n",
    "cv2.destroyAllWindows()\n",
    "cap.release()"
   ]
  },
  {
   "cell_type": "code",
   "execution_count": null,
   "metadata": {},
   "outputs": [],
   "source": []
  },
  {
   "cell_type": "code",
   "execution_count": null,
   "metadata": {},
   "outputs": [],
   "source": []
  }
 ],
 "metadata": {
  "kernelspec": {
   "display_name": "Python 3",
   "language": "python",
   "name": "python3"
  },
  "language_info": {
   "codemirror_mode": {
    "name": "ipython",
    "version": 3
   },
   "file_extension": ".py",
   "mimetype": "text/x-python",
   "name": "python",
   "nbconvert_exporter": "python",
   "pygments_lexer": "ipython3",
   "version": "3.7.0"
  }
 },
 "nbformat": 4,
 "nbformat_minor": 2
}

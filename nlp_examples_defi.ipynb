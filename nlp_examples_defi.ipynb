{
  "nbformat": 4,
  "nbformat_minor": 0,
  "metadata": {
    "colab": {
      "name": "nlp_examples_defi.ipynb",
      "version": "0.3.2",
      "provenance": [],
      "collapsed_sections": [],
      "include_colab_link": true
    },
    "kernelspec": {
      "name": "python3",
      "display_name": "Python 3"
    }
  },
  "cells": [
    {
      "cell_type": "markdown",
      "metadata": {
        "id": "view-in-github",
        "colab_type": "text"
      },
      "source": [
        "<a href=\"https://colab.research.google.com/github/harsh5239/ml/blob/deep-learning/nlp_examples_defi.ipynb\" target=\"_parent\"><img src=\"https://colab.research.google.com/assets/colab-badge.svg\" alt=\"Open In Colab\"/></a>"
      ]
    },
    {
      "cell_type": "code",
      "metadata": {
        "id": "2j0BpNt4hpMi",
        "colab_type": "code",
        "colab": {}
      },
      "source": [
        "from nltk.corpus import wordnet"
      ],
      "execution_count": 0,
      "outputs": []
    },
    {
      "cell_type": "code",
      "metadata": {
        "id": "cpPvSwd6h5Oq",
        "colab_type": "code",
        "colab": {}
      },
      "source": [
        "ws=wordnet.synsets('work')"
      ],
      "execution_count": 0,
      "outputs": []
    },
    {
      "cell_type": "code",
      "metadata": {
        "id": "HFM8czHZiByN",
        "colab_type": "code",
        "colab": {
          "base_uri": "https://localhost:8080/",
          "height": 34
        },
        "outputId": "fb064e96-8397-474f-8df5-4bd497e84324"
      },
      "source": [
        "len(ws)"
      ],
      "execution_count": 3,
      "outputs": [
        {
          "output_type": "execute_result",
          "data": {
            "text/plain": [
              "34"
            ]
          },
          "metadata": {
            "tags": []
          },
          "execution_count": 3
        }
      ]
    },
    {
      "cell_type": "code",
      "metadata": {
        "id": "p1QsyxIkiD5X",
        "colab_type": "code",
        "colab": {
          "base_uri": "https://localhost:8080/",
          "height": 34
        },
        "outputId": "537c2e80-4d24-45e4-85c1-fda258966349"
      },
      "source": [
        "ws[0].definition()"
      ],
      "execution_count": 4,
      "outputs": [
        {
          "output_type": "execute_result",
          "data": {
            "text/plain": [
              "'activity directed toward making or doing something'"
            ]
          },
          "metadata": {
            "tags": []
          },
          "execution_count": 4
        }
      ]
    },
    {
      "cell_type": "code",
      "metadata": {
        "id": "sFlRYabliM19",
        "colab_type": "code",
        "colab": {
          "base_uri": "https://localhost:8080/",
          "height": 34
        },
        "outputId": "750c2dbf-42ff-432b-89f2-d7b7971cbb00"
      },
      "source": [
        "ws[0].examples()"
      ],
      "execution_count": 5,
      "outputs": [
        {
          "output_type": "execute_result",
          "data": {
            "text/plain": [
              "['she checked several points needing further work']"
            ]
          },
          "metadata": {
            "tags": []
          },
          "execution_count": 5
        }
      ]
    },
    {
      "cell_type": "code",
      "metadata": {
        "id": "TFYOxavEiRGe",
        "colab_type": "code",
        "colab": {
          "base_uri": "https://localhost:8080/",
          "height": 34
        },
        "outputId": "4e9adf5c-7e4c-458a-b337-e42cd95b5c4d"
      },
      "source": [
        "ws[1].definition()\n",
        "#ws[1].examples()"
      ],
      "execution_count": 7,
      "outputs": [
        {
          "output_type": "execute_result",
          "data": {
            "text/plain": [
              "'a product produced or accomplished through the effort or activity or agency of a person or thing'"
            ]
          },
          "metadata": {
            "tags": []
          },
          "execution_count": 7
        }
      ]
    },
    {
      "cell_type": "code",
      "metadata": {
        "id": "sVPkoI6YiYKI",
        "colab_type": "code",
        "colab": {
          "base_uri": "https://localhost:8080/",
          "height": 340
        },
        "outputId": "5a8a720c-0815-4da9-cf99-dca0d7fdff43"
      },
      "source": [
        "import time\n",
        "#exploring all the books\n",
        "msg=input('enter your  keyword u want to know about')\n",
        "for i in wordnet.synsets(msg):\n",
        "  print(i.definition())\n",
        "  print(\"=-=-=-=-=-=\")\n",
        "  print(i.examples())\n",
        "  time.sleep(2)"
      ],
      "execution_count": 10,
      "outputs": [
        {
          "output_type": "stream",
          "text": [
            "enter your  keyword u want to know aboutharsh\n",
            "unpleasantly stern\n",
            "=-=-=-=-=-=\n",
            "['wild and harsh country full of hot sand and cactus', 'the nomad life is rough and hazardous']\n",
            "disagreeable to the senses\n",
            "=-=-=-=-=-=\n",
            "['the harsh cry of a blue jay', 'harsh cognac', 'the harsh white light makes you screw up your eyes', 'harsh irritating smoke filled the hallway']\n",
            "of textures that are rough to the touch or substances consisting of relatively large particles\n",
            "=-=-=-=-=-=\n",
            "['coarse meal', 'coarse sand', 'a coarse weave']\n",
            "unkind or cruel or uncivil\n",
            "=-=-=-=-=-=\n",
            "['had harsh words', 'a harsh and unlovable old tyrant', 'a rough answer']\n",
            "severe\n",
            "=-=-=-=-=-=\n",
            "['a harsh penalty']\n",
            "sharply disagreeable; rigorous\n",
            "=-=-=-=-=-=\n",
            "['the harsh facts of court delays', 'an abrasive character']\n"
          ],
          "name": "stdout"
        }
      ]
    },
    {
      "cell_type": "code",
      "metadata": {
        "id": "Krr8Yraii9l-",
        "colab_type": "code",
        "colab": {}
      },
      "source": [
        ""
      ],
      "execution_count": 0,
      "outputs": []
    }
  ]
}
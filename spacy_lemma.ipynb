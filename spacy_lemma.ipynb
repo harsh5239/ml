{
  "nbformat": 4,
  "nbformat_minor": 0,
  "metadata": {
    "colab": {
      "name": "spacy_lemma.ipynb",
      "version": "0.3.2",
      "provenance": [],
      "collapsed_sections": [],
      "include_colab_link": true
    },
    "kernelspec": {
      "name": "python3",
      "display_name": "Python 3"
    }
  },
  "cells": [
    {
      "cell_type": "markdown",
      "metadata": {
        "id": "view-in-github",
        "colab_type": "text"
      },
      "source": [
        "<a href=\"https://colab.research.google.com/github/harsh5239/ml/blob/deep-learning/spacy_lemma.ipynb\" target=\"_parent\"><img src=\"https://colab.research.google.com/assets/colab-badge.svg\" alt=\"Open In Colab\"/></a>"
      ]
    },
    {
      "cell_type": "code",
      "metadata": {
        "id": "KyEVMgu4aoBP",
        "colab_type": "code",
        "colab": {
          "base_uri": "https://localhost:8080/",
          "height": 102
        },
        "outputId": "14c92382-ad57-4478-bee6-2a94867f8241"
      },
      "source": [
        "from nltk.tokenize import word_tokenize,sent_tokenize\n",
        "from nltk.stem import PorterStemmer,WordNetLemmatizer\n",
        "from nltk.corpus import stopwords\n",
        "import nltk\n",
        "nltk.download('punkt')\n",
        "nltk.download('stopwords')"
      ],
      "execution_count": 9,
      "outputs": [
        {
          "output_type": "stream",
          "text": [
            "[nltk_data] Downloading package punkt to /root/nltk_data...\n",
            "[nltk_data]   Package punkt is already up-to-date!\n",
            "[nltk_data] Downloading package stopwords to /root/nltk_data...\n",
            "[nltk_data]   Unzipping corpora/stopwords.zip.\n"
          ],
          "name": "stdout"
        },
        {
          "output_type": "execute_result",
          "data": {
            "text/plain": [
              "True"
            ]
          },
          "metadata": {
            "tags": []
          },
          "execution_count": 9
        }
      ]
    },
    {
      "cell_type": "code",
      "metadata": {
        "id": "wtZSwEdbbIrb",
        "colab_type": "code",
        "colab": {}
      },
      "source": [
        "data='hello world i m going outtside for playing cricket'"
      ],
      "execution_count": 0,
      "outputs": []
    },
    {
      "cell_type": "code",
      "metadata": {
        "id": "G8eOMkH4bg1r",
        "colab_type": "code",
        "colab": {}
      },
      "source": [
        "tdata=word_tokenize(data)"
      ],
      "execution_count": 0,
      "outputs": []
    },
    {
      "cell_type": "code",
      "metadata": {
        "id": "h-Xd2-fwbkHy",
        "colab_type": "code",
        "colab": {
          "base_uri": "https://localhost:8080/",
          "height": 34
        },
        "outputId": "32a52193-cf31-4d90-edd3-c4e6535db31f"
      },
      "source": [
        "tdata"
      ],
      "execution_count": 7,
      "outputs": [
        {
          "output_type": "execute_result",
          "data": {
            "text/plain": [
              "['hello', 'world', 'i', 'm', 'going', 'outtside', 'for', 'playing', 'cricket']"
            ]
          },
          "metadata": {
            "tags": []
          },
          "execution_count": 7
        }
      ]
    },
    {
      "cell_type": "code",
      "metadata": {
        "id": "O3Txf6cJbtJk",
        "colab_type": "code",
        "colab": {}
      },
      "source": [
        "removedata=[i for i  in tdata if i.lower() not in stopwords.words('english')]"
      ],
      "execution_count": 0,
      "outputs": []
    },
    {
      "cell_type": "code",
      "metadata": {
        "id": "wkbfz0P7b4jj",
        "colab_type": "code",
        "colab": {
          "base_uri": "https://localhost:8080/",
          "height": 34
        },
        "outputId": "ee6f7449-7e13-41ea-e1e2-9c7b9b4e1dd3"
      },
      "source": [
        "removedata"
      ],
      "execution_count": 11,
      "outputs": [
        {
          "output_type": "execute_result",
          "data": {
            "text/plain": [
              "['hello', 'world', 'going', 'outtside', 'playing', 'cricket']"
            ]
          },
          "metadata": {
            "tags": []
          },
          "execution_count": 11
        }
      ]
    },
    {
      "cell_type": "code",
      "metadata": {
        "id": "6pMTfHEFcKdF",
        "colab_type": "code",
        "colab": {
          "base_uri": "https://localhost:8080/",
          "height": 119
        },
        "outputId": "0121ad6f-5e64-4f50-bfcb-efc69b201a5e"
      },
      "source": [
        "pt=PorterStemmer()\n",
        "for i in removedata:\n",
        "  print(i,'stemmed into --->',pt.stem(i))"
      ],
      "execution_count": 13,
      "outputs": [
        {
          "output_type": "stream",
          "text": [
            "hello stemmed into ---> hello\n",
            "world stemmed into ---> world\n",
            "going stemmed into ---> go\n",
            "outtside stemmed into ---> outtsid\n",
            "playing stemmed into ---> play\n",
            "cricket stemmed into ---> cricket\n"
          ],
          "name": "stdout"
        }
      ]
    },
    {
      "cell_type": "code",
      "metadata": {
        "id": "4suB48YVcZfM",
        "colab_type": "code",
        "colab": {
          "base_uri": "https://localhost:8080/",
          "height": 153
        },
        "outputId": "bea2c883-da58-4552-a0ac-842f4478c5e0"
      },
      "source": [
        " nltk.download('wordnet')\n",
        "#lemma\n",
        "wl=WordNetLemmatizer()\n",
        "for i in removedata:\n",
        "  print(wl.lemmatize(i))\n",
        "  "
      ],
      "execution_count": 16,
      "outputs": [
        {
          "output_type": "stream",
          "text": [
            "[nltk_data] Downloading package wordnet to /root/nltk_data...\n",
            "[nltk_data]   Unzipping corpora/wordnet.zip.\n",
            "hello\n",
            "world\n",
            "going\n",
            "outtside\n",
            "playing\n",
            "cricket\n"
          ],
          "name": "stdout"
        }
      ]
    },
    {
      "cell_type": "code",
      "metadata": {
        "id": "Ic5nOtlHdBdp",
        "colab_type": "code",
        "colab": {
          "base_uri": "https://localhost:8080/",
          "height": 34
        },
        "outputId": "5d347d9e-c9a9-435e-bf41-56a063572899"
      },
      "source": [
        "#stem\n",
        "#x='goes'\n",
        "#pt.stem(x)\n",
        "#wl.lemmatize('goes')"
      ],
      "execution_count": 24,
      "outputs": [
        {
          "output_type": "execute_result",
          "data": {
            "text/plain": [
              "'go'"
            ]
          },
          "metadata": {
            "tags": []
          },
          "execution_count": 24
        }
      ]
    },
    {
      "cell_type": "code",
      "metadata": {
        "id": "yna3_uP4dWjI",
        "colab_type": "code",
        "colab": {}
      },
      "source": [
        "import spacy"
      ],
      "execution_count": 0,
      "outputs": []
    },
    {
      "cell_type": "code",
      "metadata": {
        "id": "xRUdUppPeY9y",
        "colab_type": "code",
        "colab": {}
      },
      "source": [
        "#language en\n",
        "nlp=spacy.load('en')"
      ],
      "execution_count": 0,
      "outputs": []
    },
    {
      "cell_type": "code",
      "metadata": {
        "id": "dVHq4rX-eqU0",
        "colab_type": "code",
        "colab": {}
      },
      "source": [
        "data='hello world i am going outside to play cricket'"
      ],
      "execution_count": 0,
      "outputs": []
    },
    {
      "cell_type": "code",
      "metadata": {
        "id": "Rb4g9QZvfPVB",
        "colab_type": "code",
        "colab": {}
      },
      "source": [
        "new_data=nlp(data) #automatic tokenize"
      ],
      "execution_count": 0,
      "outputs": []
    },
    {
      "cell_type": "code",
      "metadata": {
        "id": "usL8KonffTFf",
        "colab_type": "code",
        "colab": {
          "base_uri": "https://localhost:8080/",
          "height": 476
        },
        "outputId": "86e63545-dbdc-4725-b70c-17e8c02fd599"
      },
      "source": [
        "for i in new_data:\n",
        "  print(i,'===lemmatization of word is===',i.lemma_)\n",
        "  print('=-=-=-=-=-=-=-=-=-=-=-=-=-=')\n",
        "  print(i,'pos-->',i.pos_)"
      ],
      "execution_count": 33,
      "outputs": [
        {
          "output_type": "stream",
          "text": [
            "hello ===lemmatization of word is=== hello\n",
            "=-=-=-=-=-=-=-=-=-=-=-=-=-=\n",
            "hello pos--> INTJ\n",
            "world ===lemmatization of word is=== world\n",
            "=-=-=-=-=-=-=-=-=-=-=-=-=-=\n",
            "world pos--> NOUN\n",
            "i ===lemmatization of word is=== i\n",
            "=-=-=-=-=-=-=-=-=-=-=-=-=-=\n",
            "i pos--> PRON\n",
            "am ===lemmatization of word is=== be\n",
            "=-=-=-=-=-=-=-=-=-=-=-=-=-=\n",
            "am pos--> VERB\n",
            "going ===lemmatization of word is=== go\n",
            "=-=-=-=-=-=-=-=-=-=-=-=-=-=\n",
            "going pos--> VERB\n",
            "outside ===lemmatization of word is=== outside\n",
            "=-=-=-=-=-=-=-=-=-=-=-=-=-=\n",
            "outside pos--> ADV\n",
            "to ===lemmatization of word is=== to\n",
            "=-=-=-=-=-=-=-=-=-=-=-=-=-=\n",
            "to pos--> PART\n",
            "play ===lemmatization of word is=== play\n",
            "=-=-=-=-=-=-=-=-=-=-=-=-=-=\n",
            "play pos--> VERB\n",
            "cricket ===lemmatization of word is=== cricket\n",
            "=-=-=-=-=-=-=-=-=-=-=-=-=-=\n",
            "cricket pos--> NOUN\n"
          ],
          "name": "stdout"
        }
      ]
    },
    {
      "cell_type": "code",
      "metadata": {
        "id": "TTyCfb2yf18c",
        "colab_type": "code",
        "colab": {}
      },
      "source": [
        ""
      ],
      "execution_count": 0,
      "outputs": []
    }
  ]
}